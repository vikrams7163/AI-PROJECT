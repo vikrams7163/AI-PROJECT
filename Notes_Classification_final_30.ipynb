{
  "nbformat": 4,
  "nbformat_minor": 0,
  "metadata": {
    "colab": {
      "name": "Notes Classification_final_30",
      "provenance": []
    },
    "kernelspec": {
      "display_name": "Python 3",
      "name": "python3"
    }
  },
  "cells": [
    {
      "cell_type": "code",
      "metadata": {
        "colab": {
          "base_uri": "https://localhost:8080/"
        },
        "id": "i0Z5PkyeCOHT",
        "outputId": "855a9759-32ee-4f6c-bded-ce1193e278ec"
      },
      "source": [
        "from google.colab import drive\r\n",
        "drive.mount('/content/drive')"
      ],
      "execution_count": null,
      "outputs": [
        {
          "output_type": "stream",
          "text": [
            "Mounted at /content/drive\n"
          ],
          "name": "stdout"
        }
      ]
    },
    {
      "cell_type": "code",
      "metadata": {
        "id": "S_iwUY41CgGo"
      },
      "source": [
        "from tensorflow.keras.layers import Input, Lambda, Dense, Flatten\r\n",
        "from tensorflow.keras.models import Model\r\n",
        "from tensorflow.keras.preprocessing import image\r\n",
        "from tensorflow.keras.preprocessing.image import ImageDataGenerator,load_img\r\n",
        "from tensorflow.keras.models import Sequential\r\n",
        "from tensorflow.keras.layers import MaxPooling2D\r\n",
        "from tensorflow.keras.layers import Conv2D\r\n",
        "\r\n",
        "import numpy as np\r\n",
        "from glob import glob"
      ],
      "execution_count": null,
      "outputs": []
    },
    {
      "cell_type": "code",
      "metadata": {
        "id": "3gaYFzOGCsUo"
      },
      "source": [
        "train_dir='/content/drive/MyDrive/Jackpot/outputimg/train'\r\n",
        "test_dir='/content/drive/MyDrive/Jackpot/outputimg/val'"
      ],
      "execution_count": null,
      "outputs": []
    },
    {
      "cell_type": "code",
      "metadata": {
        "id": "ubAZ_CAfC06D"
      },
      "source": [
        "img_width, img_height= 224,224"
      ],
      "execution_count": null,
      "outputs": []
    },
    {
      "cell_type": "code",
      "metadata": {
        "colab": {
          "base_uri": "https://localhost:8080/"
        },
        "id": "APimH-P0C48Y",
        "outputId": "3c7ed027-8c8d-4837-f51e-0bd7e61877c2"
      },
      "source": [
        "Classifier=Sequential()\r\n",
        "\r\n",
        "Classifier.add(Conv2D(32,(3,3), input_shape=(224,224,1), activation='relu'))\r\n",
        "Classifier.add(MaxPooling2D(pool_size=(2,2)))\r\n",
        "\r\n",
        "Classifier.add(Conv2D(32,(3,3),activation='relu'))\r\n",
        "Classifier.add(MaxPooling2D(pool_size=(2,2)))\r\n",
        "\r\n",
        "Classifier.add(Flatten())\r\n",
        "\r\n",
        "Classifier.add(Dense(units = 128, activation = 'relu'))\r\n",
        "Classifier.add(Dense(units = 10, activation = 'softmax'))\r\n",
        "Classifier.summary()"
      ],
      "execution_count": null,
      "outputs": [
        {
          "output_type": "stream",
          "text": [
            "Model: \"sequential_2\"\n",
            "_________________________________________________________________\n",
            "Layer (type)                 Output Shape              Param #   \n",
            "=================================================================\n",
            "conv2d_4 (Conv2D)            (None, 222, 222, 32)      320       \n",
            "_________________________________________________________________\n",
            "max_pooling2d_4 (MaxPooling2 (None, 111, 111, 32)      0         \n",
            "_________________________________________________________________\n",
            "conv2d_5 (Conv2D)            (None, 109, 109, 32)      9248      \n",
            "_________________________________________________________________\n",
            "max_pooling2d_5 (MaxPooling2 (None, 54, 54, 32)        0         \n",
            "_________________________________________________________________\n",
            "flatten_2 (Flatten)          (None, 93312)             0         \n",
            "_________________________________________________________________\n",
            "dense_4 (Dense)              (None, 128)               11944064  \n",
            "_________________________________________________________________\n",
            "dense_5 (Dense)              (None, 10)                1290      \n",
            "=================================================================\n",
            "Total params: 11,954,922\n",
            "Trainable params: 11,954,922\n",
            "Non-trainable params: 0\n",
            "_________________________________________________________________\n"
          ],
          "name": "stdout"
        }
      ]
    },
    {
      "cell_type": "code",
      "metadata": {
        "id": "pyXUwG0gDHA4"
      },
      "source": [
        "Classifier.compile(\r\n",
        "  loss='categorical_crossentropy',\r\n",
        "  optimizer='adam',\r\n",
        "  metrics=['accuracy']\r\n",
        ")\r\n"
      ],
      "execution_count": null,
      "outputs": []
    },
    {
      "cell_type": "code",
      "metadata": {
        "id": "GH3ujje-DJkE"
      },
      "source": [
        "from tensorflow.keras.preprocessing.image import ImageDataGenerator\r\n",
        "\r\n",
        "train_datagen = ImageDataGenerator(rescale = 1./255,\r\n",
        "                                   height_shift_range=0.2,\r\n",
        "                                   featurewise_center=True,\r\n",
        "                                   rotation_range=0.4,\r\n",
        "                                   horizontal_flip = True)\r\n",
        "\r\n",
        "test_datagen = ImageDataGenerator(rescale = 1./255,)\r\n"
      ],
      "execution_count": null,
      "outputs": []
    },
    {
      "cell_type": "code",
      "metadata": {
        "colab": {
          "base_uri": "https://localhost:8080/"
        },
        "id": "D1XJ9XpDDS8w",
        "outputId": "6d9a2e6f-3905-41d4-8428-883cd24b8337"
      },
      "source": [
        "training_set = train_datagen.flow_from_directory(train_dir,\r\n",
        "                                                 target_size = (224, 224),\r\n",
        "                                                 batch_size = 32,\r\n",
        "                                                 color_mode ='grayscale',\r\n",
        "                                                 class_mode = 'categorical')"
      ],
      "execution_count": null,
      "outputs": [
        {
          "output_type": "stream",
          "text": [
            "Found 1513 images belonging to 10 classes.\n"
          ],
          "name": "stdout"
        }
      ]
    },
    {
      "cell_type": "code",
      "metadata": {
        "colab": {
          "base_uri": "https://localhost:8080/"
        },
        "id": "SbBsqzQjDhRp",
        "outputId": "214769d8-c2fd-490c-e3f2-977790335498"
      },
      "source": [
        "test_set = test_datagen.flow_from_directory(test_dir,\r\n",
        "                                            target_size = (224, 224),\r\n",
        "                                            batch_size = 32,\r\n",
        "                                            color_mode='grayscale',\r\n",
        "                                            class_mode = 'categorical')"
      ],
      "execution_count": null,
      "outputs": [
        {
          "output_type": "stream",
          "text": [
            "Found 506 images belonging to 10 classes.\n"
          ],
          "name": "stdout"
        }
      ]
    },
    {
      "cell_type": "code",
      "metadata": {
        "colab": {
          "base_uri": "https://localhost:8080/"
        },
        "id": "0q7gaZE5DnZ7",
        "outputId": "4e2fb157-635e-4837-8039-bd106c02d559"
      },
      "source": [
        "from PIL import _imaging\r\n",
        "from PIL import Image\r\n",
        "import PIL\r\n",
        "# Run the cell. It will take some time to execute\r\n",
        "r = Classifier.fit_generator(\r\n",
        "  training_set,\r\n",
        "  validation_data=test_set,\r\n",
        "  epochs=30,\r\n",
        "  steps_per_epoch=len(training_set),\r\n",
        "  validation_steps=len(test_set)\r\n",
        ")"
      ],
      "execution_count": null,
      "outputs": [
        {
          "output_type": "stream",
          "text": [
            "/usr/local/lib/python3.6/dist-packages/tensorflow/python/keras/engine/training.py:1844: UserWarning: `Model.fit_generator` is deprecated and will be removed in a future version. Please use `Model.fit`, which supports generators.\n",
            "  warnings.warn('`Model.fit_generator` is deprecated and '\n",
            "/usr/local/lib/python3.6/dist-packages/keras_preprocessing/image/image_data_generator.py:720: UserWarning: This ImageDataGenerator specifies `featurewise_center`, but it hasn't been fit on any training data. Fit it first by calling `.fit(numpy_data)`.\n",
            "  warnings.warn('This ImageDataGenerator specifies '\n"
          ],
          "name": "stderr"
        },
        {
          "output_type": "stream",
          "text": [
            "Epoch 1/30\n",
            "10/48 [=====>........................] - ETA: 1:15 - loss: 2.2734 - accuracy: 0.1969"
          ],
          "name": "stdout"
        },
        {
          "output_type": "stream",
          "text": [
            "/usr/local/lib/python3.6/dist-packages/PIL/TiffImagePlugin.py:788: UserWarning: Corrupt EXIF data.  Expecting to read 4 bytes but only got 0. \n",
            "  warnings.warn(str(msg))\n"
          ],
          "name": "stderr"
        },
        {
          "output_type": "stream",
          "text": [
            "48/48 [==============================] - 107s 2s/step - loss: 2.2198 - accuracy: 0.1745 - val_loss: 2.0558 - val_accuracy: 0.1719\n",
            "Epoch 2/30\n",
            "48/48 [==============================] - 107s 2s/step - loss: 1.8355 - accuracy: 0.3325 - val_loss: 1.6954 - val_accuracy: 0.4526\n",
            "Epoch 3/30\n",
            "48/48 [==============================] - 108s 2s/step - loss: 1.2528 - accuracy: 0.5955 - val_loss: 1.5176 - val_accuracy: 0.5968\n",
            "Epoch 4/30\n",
            "48/48 [==============================] - 108s 2s/step - loss: 0.8677 - accuracy: 0.7046 - val_loss: 0.6020 - val_accuracy: 0.8300\n",
            "Epoch 5/30\n",
            "48/48 [==============================] - 107s 2s/step - loss: 0.6572 - accuracy: 0.7759 - val_loss: 0.5246 - val_accuracy: 0.7964\n",
            "Epoch 6/30\n",
            "48/48 [==============================] - 108s 2s/step - loss: 0.4352 - accuracy: 0.8526 - val_loss: 0.5375 - val_accuracy: 0.8123\n",
            "Epoch 7/30\n",
            "48/48 [==============================] - 108s 2s/step - loss: 0.3572 - accuracy: 0.8857 - val_loss: 0.2857 - val_accuracy: 0.8992\n",
            "Epoch 8/30\n",
            "48/48 [==============================] - 108s 2s/step - loss: 0.2751 - accuracy: 0.9101 - val_loss: 0.6058 - val_accuracy: 0.7787\n",
            "Epoch 9/30\n",
            "48/48 [==============================] - 108s 2s/step - loss: 0.2207 - accuracy: 0.9313 - val_loss: 0.1956 - val_accuracy: 0.9289\n",
            "Epoch 10/30\n",
            "48/48 [==============================] - 108s 2s/step - loss: 0.1996 - accuracy: 0.9359 - val_loss: 0.3704 - val_accuracy: 0.8636\n",
            "Epoch 11/30\n",
            "48/48 [==============================] - 108s 2s/step - loss: 0.1983 - accuracy: 0.9418 - val_loss: 0.1090 - val_accuracy: 0.9526\n",
            "Epoch 12/30\n",
            "48/48 [==============================] - 108s 2s/step - loss: 0.1416 - accuracy: 0.9511 - val_loss: 0.1322 - val_accuracy: 0.9506\n",
            "Epoch 13/30\n",
            "48/48 [==============================] - 108s 2s/step - loss: 0.1395 - accuracy: 0.9518 - val_loss: 0.0989 - val_accuracy: 0.9545\n",
            "Epoch 14/30\n",
            "48/48 [==============================] - 108s 2s/step - loss: 0.1240 - accuracy: 0.9551 - val_loss: 0.0955 - val_accuracy: 0.9605\n",
            "Epoch 15/30\n",
            "48/48 [==============================] - 108s 2s/step - loss: 0.1142 - accuracy: 0.9603 - val_loss: 0.0740 - val_accuracy: 0.9763\n",
            "Epoch 16/30\n",
            "48/48 [==============================] - 108s 2s/step - loss: 0.0993 - accuracy: 0.9636 - val_loss: 0.0987 - val_accuracy: 0.9763\n",
            "Epoch 17/30\n",
            "48/48 [==============================] - 108s 2s/step - loss: 0.1129 - accuracy: 0.9610 - val_loss: 0.0958 - val_accuracy: 0.9625\n",
            "Epoch 18/30\n",
            "48/48 [==============================] - 108s 2s/step - loss: 0.0970 - accuracy: 0.9716 - val_loss: 0.0980 - val_accuracy: 0.9684\n",
            "Epoch 19/30\n",
            "48/48 [==============================] - 108s 2s/step - loss: 0.0978 - accuracy: 0.9584 - val_loss: 0.1249 - val_accuracy: 0.9684\n",
            "Epoch 20/30\n",
            "48/48 [==============================] - 108s 2s/step - loss: 0.0832 - accuracy: 0.9689 - val_loss: 0.1263 - val_accuracy: 0.9684\n",
            "Epoch 21/30\n",
            "48/48 [==============================] - 108s 2s/step - loss: 0.0921 - accuracy: 0.9656 - val_loss: 0.1122 - val_accuracy: 0.9743\n",
            "Epoch 22/30\n",
            "48/48 [==============================] - 108s 2s/step - loss: 0.0891 - accuracy: 0.9636 - val_loss: 0.1128 - val_accuracy: 0.9684\n",
            "Epoch 23/30\n",
            "48/48 [==============================] - 108s 2s/step - loss: 0.0830 - accuracy: 0.9636 - val_loss: 0.0924 - val_accuracy: 0.9625\n",
            "Epoch 24/30\n",
            "48/48 [==============================] - 108s 2s/step - loss: 0.0893 - accuracy: 0.9630 - val_loss: 0.0871 - val_accuracy: 0.9585\n",
            "Epoch 25/30\n",
            "48/48 [==============================] - 107s 2s/step - loss: 0.0974 - accuracy: 0.9656 - val_loss: 0.1059 - val_accuracy: 0.9466\n",
            "Epoch 26/30\n",
            "48/48 [==============================] - 108s 2s/step - loss: 0.0717 - accuracy: 0.9716 - val_loss: 0.0888 - val_accuracy: 0.9526\n",
            "Epoch 27/30\n",
            "48/48 [==============================] - 108s 2s/step - loss: 0.0721 - accuracy: 0.9729 - val_loss: 0.0752 - val_accuracy: 0.9704\n",
            "Epoch 28/30\n",
            "48/48 [==============================] - 107s 2s/step - loss: 0.0781 - accuracy: 0.9623 - val_loss: 0.0598 - val_accuracy: 0.9664\n",
            "Epoch 29/30\n",
            "48/48 [==============================] - 108s 2s/step - loss: 0.0724 - accuracy: 0.9676 - val_loss: 0.0590 - val_accuracy: 0.9783\n",
            "Epoch 30/30\n",
            "48/48 [==============================] - 108s 2s/step - loss: 0.0868 - accuracy: 0.9630 - val_loss: 0.0720 - val_accuracy: 0.9743\n"
          ],
          "name": "stdout"
        }
      ]
    },
    {
      "cell_type": "code",
      "metadata": {
        "colab": {
          "base_uri": "https://localhost:8080/"
        },
        "id": "GaYoUr4dDwqM",
        "outputId": "68aa6931-71bd-4fc4-aca0-168ba3ead9e1"
      },
      "source": [
        "r.history"
      ],
      "execution_count": null,
      "outputs": [
        {
          "output_type": "execute_result",
          "data": {
            "text/plain": [
              "{'accuracy': [0.17448776960372925,\n",
              "  0.33245208859443665,\n",
              "  0.5955055952072144,\n",
              "  0.7045604586601257,\n",
              "  0.7759418487548828,\n",
              "  0.85261070728302,\n",
              "  0.8856576085090637,\n",
              "  0.9101123809814453,\n",
              "  0.9312623739242554,\n",
              "  0.935888946056366,\n",
              "  0.9418374300003052,\n",
              "  0.9510905742645264,\n",
              "  0.9517514705657959,\n",
              "  0.9550561904907227,\n",
              "  0.9603436589241028,\n",
              "  0.9636483788490295,\n",
              "  0.9610046148300171,\n",
              "  0.9715796709060669,\n",
              "  0.9583608508110046,\n",
              "  0.9689359068870544,\n",
              "  0.9656311869621277,\n",
              "  0.9636483788490295,\n",
              "  0.9636483788490295,\n",
              "  0.9629874229431152,\n",
              "  0.9656311869621277,\n",
              "  0.9715796709060669,\n",
              "  0.9729015231132507,\n",
              "  0.9623265266418457,\n",
              "  0.9676139950752258,\n",
              "  0.9629874229431152],\n",
              " 'loss': [2.2198498249053955,\n",
              "  1.8355406522750854,\n",
              "  1.2528032064437866,\n",
              "  0.8676826357841492,\n",
              "  0.6572453379631042,\n",
              "  0.4352179765701294,\n",
              "  0.3571968078613281,\n",
              "  0.2751031517982483,\n",
              "  0.22072213888168335,\n",
              "  0.1996430903673172,\n",
              "  0.19830773770809174,\n",
              "  0.14164090156555176,\n",
              "  0.13946929574012756,\n",
              "  0.12397828698158264,\n",
              "  0.1141854077577591,\n",
              "  0.09932579845190048,\n",
              "  0.11287091672420502,\n",
              "  0.09695278108119965,\n",
              "  0.09779118001461029,\n",
              "  0.0831613764166832,\n",
              "  0.09208271652460098,\n",
              "  0.08914145082235336,\n",
              "  0.08297959715127945,\n",
              "  0.08929988741874695,\n",
              "  0.0973631739616394,\n",
              "  0.07166166603565216,\n",
              "  0.07207546383142471,\n",
              "  0.07808544486761093,\n",
              "  0.07242830097675323,\n",
              "  0.08675750344991684],\n",
              " 'val_accuracy': [0.1719367653131485,\n",
              "  0.4525691568851471,\n",
              "  0.5968379378318787,\n",
              "  0.8300395011901855,\n",
              "  0.7964426875114441,\n",
              "  0.812252938747406,\n",
              "  0.8992094993591309,\n",
              "  0.7786561250686646,\n",
              "  0.9288537502288818,\n",
              "  0.8636363744735718,\n",
              "  0.9525691866874695,\n",
              "  0.9505928754806519,\n",
              "  0.9545454382896423,\n",
              "  0.9604743123054504,\n",
              "  0.9762845635414124,\n",
              "  0.9762845635414124,\n",
              "  0.9624505639076233,\n",
              "  0.9683794379234314,\n",
              "  0.9683794379234314,\n",
              "  0.9683794379234314,\n",
              "  0.9743083119392395,\n",
              "  0.9683794379234314,\n",
              "  0.9624505639076233,\n",
              "  0.9584980010986328,\n",
              "  0.9466403126716614,\n",
              "  0.9525691866874695,\n",
              "  0.970355749130249,\n",
              "  0.9664031863212585,\n",
              "  0.97826087474823,\n",
              "  0.9743083119392395],\n",
              " 'val_loss': [2.055783987045288,\n",
              "  1.6954116821289062,\n",
              "  1.5175889730453491,\n",
              "  0.6020264029502869,\n",
              "  0.5246408581733704,\n",
              "  0.5375165343284607,\n",
              "  0.2857075035572052,\n",
              "  0.6057667136192322,\n",
              "  0.1955636888742447,\n",
              "  0.37035974860191345,\n",
              "  0.10904613137245178,\n",
              "  0.13222473859786987,\n",
              "  0.09893476963043213,\n",
              "  0.09551022946834564,\n",
              "  0.0740140900015831,\n",
              "  0.098665252327919,\n",
              "  0.09583122283220291,\n",
              "  0.09801886975765228,\n",
              "  0.12493245303630829,\n",
              "  0.12629233300685883,\n",
              "  0.11217987537384033,\n",
              "  0.11275946348905563,\n",
              "  0.0924156904220581,\n",
              "  0.0870683416724205,\n",
              "  0.10591714829206467,\n",
              "  0.08877786993980408,\n",
              "  0.07520625740289688,\n",
              "  0.059810008853673935,\n",
              "  0.05902522802352905,\n",
              "  0.07199971377849579]}"
            ]
          },
          "metadata": {
            "tags": []
          },
          "execution_count": 64
        }
      ]
    },
    {
      "cell_type": "code",
      "metadata": {
        "colab": {
          "base_uri": "https://localhost:8080/",
          "height": 529
        },
        "id": "PZfxzZpIIPNG",
        "outputId": "de0fb24e-16da-4bc4-bbd4-dc470442fede"
      },
      "source": [
        "import matplotlib.pyplot as plt\r\n",
        "# plot the loss\r\n",
        "plt.plot(r.history['loss'], label='train loss')\r\n",
        "plt.plot(r.history['val_loss'], label='val loss')\r\n",
        "plt.legend()\r\n",
        "plt.show()\r\n",
        "plt.savefig('LossVal_loss')\r\n",
        "\r\n",
        "# plot the accuracy\r\n",
        "plt.plot(r.history['accuracy'], label='train acc')\r\n",
        "plt.plot(r.history['val_accuracy'], label='val acc')\r\n",
        "plt.legend()\r\n",
        "plt.show()\r\n",
        "plt.savefig('AccVal_acc')"
      ],
      "execution_count": null,
      "outputs": [
        {
          "output_type": "display_data",
          "data": {
            "image/png": "[encoded data removed]",
            "text/plain": [
              "<Figure size 432x288 with 1 Axes>"
            ]
          },
          "metadata": {
            "tags": [],
            "needs_background": "light"
          }
        },
        {
          "output_type": "display_data",
          "data": {
            "image/png": "[encoded data removed]",
            "text/plain": [
              "<Figure size 432x288 with 1 Axes>"
            ]
          },
          "metadata": {
            "tags": [],
            "needs_background": "light"
          }
        },
        {
          "output_type": "display_data",
          "data": {
            "text/plain": [
              "<Figure size 432x288 with 0 Axes>"
            ]
          },
          "metadata": {
            "tags": []
          }
        }
      ]
    },
    {
      "cell_type": "code",
      "metadata": {
        "id": "Q_4qC7diLLsh"
      },
      "source": [
        "from tensorflow.keras.models import load_model\r\n",
        "\r\n",
        "Classifier.save('model_Classifierf.h5')"
      ],
      "execution_count": null,
      "outputs": []
    },
    {
      "cell_type": "code",
      "metadata": {
        "id": "dk5OWpHJIPLA"
      },
      "source": [
        "y_pred = Classifier.predict(test_set)"
      ],
      "execution_count": null,
      "outputs": []
    },
    {
      "cell_type": "code",
      "metadata": {
        "colab": {
          "base_uri": "https://localhost:8080/"
        },
        "id": "GTqHM0s_IPJZ",
        "outputId": "cccf49b7-298e-4291-a4df-dc82734b526f"
      },
      "source": [
        "y_pred"
      ],
      "execution_count": null,
      "outputs": [
        {
          "output_type": "execute_result",
          "data": {
            "text/plain": [
              "array([[7.9321524e-04, 1.9665074e-05, 9.6352637e-01, ..., 6.4151941e-11,\n",
              "        6.0141820e-06, 1.3441567e-07],\n",
              "       [3.6441324e-06, 1.8207217e-07, 1.2457329e-07, ..., 2.2019468e-02,\n",
              "        5.3412959e-06, 3.7947714e-07],\n",
              "       [2.3798100e-03, 2.1841186e-03, 1.2057470e-06, ..., 1.5419713e-04,\n",
              "        6.6557911e-04, 9.2650100e-04],\n",
              "       ...,\n",
              "       [5.1163466e-11, 1.5673640e-13, 2.9861431e-15, ..., 7.0522322e-19,\n",
              "        9.0974707e-11, 8.1536755e-15],\n",
              "       [2.1634317e-08, 4.6283763e-10, 5.6576244e-14, ..., 1.6638791e-03,\n",
              "        2.8978242e-09, 3.8703318e-11],\n",
              "       [7.3562074e-01, 2.4626419e-01, 2.7178979e-07, ..., 4.1143721e-08,\n",
              "        1.1012696e-03, 5.0264725e-04]], dtype=float32)"
            ]
          },
          "metadata": {
            "tags": []
          },
          "execution_count": 127
        }
      ]
    },
    {
      "cell_type": "code",
      "metadata": {
        "id": "pOMIlVFcIPG0"
      },
      "source": [
        "import numpy as np\r\n",
        "y_pred = np.argmax(y_pred, axis=1)"
      ],
      "execution_count": null,
      "outputs": []
    },
    {
      "cell_type": "code",
      "metadata": {
        "colab": {
          "base_uri": "https://localhost:8080/"
        },
        "id": "CAiBc2AbIPEr",
        "outputId": "a97845df-144b-44c3-8f9b-0150e4bb26e7"
      },
      "source": [
        "y_pred"
      ],
      "execution_count": null,
      "outputs": [
        {
          "output_type": "execute_result",
          "data": {
            "text/plain": [
              "array([2, 6, 3, 3, 4, 9, 3, 2, 3, 8, 0, 7, 2, 4, 5, 8, 5, 4, 2, 7, 0, 2,\n",
              "       5, 0, 4, 4, 5, 2, 3, 4, 4, 7, 0, 3, 2, 7, 2, 7, 0, 3, 0, 2, 0, 5,\n",
              "       2, 9, 3, 2, 2, 4, 0, 2, 2, 4, 3, 1, 8, 3, 5, 7, 5, 3, 9, 4, 5, 4,\n",
              "       3, 2, 5, 1, 4, 1, 7, 3, 4, 3, 3, 3, 2, 6, 3, 4, 7, 5, 5, 2, 2, 4,\n",
              "       9, 9, 2, 5, 0, 5, 0, 2, 1, 3, 2, 3, 5, 2, 5, 3, 5, 3, 7, 5, 5, 4,\n",
              "       1, 2, 7, 2, 1, 8, 5, 3, 2, 0, 6, 9, 4, 7, 4, 3, 2, 4, 3, 5, 2, 0,\n",
              "       7, 4, 0, 5, 5, 2, 3, 7, 1, 4, 7, 1, 5, 0, 6, 3, 4, 4, 8, 7, 7, 2,\n",
              "       4, 6, 2, 9, 2, 2, 0, 9, 9, 2, 4, 2, 1, 4, 8, 1, 1, 5, 5, 5, 3, 2,\n",
              "       5, 4, 5, 8, 5, 2, 1, 5, 9, 1, 5, 3, 1, 5, 0, 0, 0, 2, 9, 7, 0, 5,\n",
              "       7, 6, 7, 3, 3, 9, 1, 2, 4, 2, 0, 4, 2, 4, 3, 4, 9, 5, 8, 5, 4, 2,\n",
              "       5, 8, 2, 5, 4, 0, 2, 6, 7, 3, 4, 5, 7, 8, 4, 2, 4, 3, 5, 2, 2, 4,\n",
              "       5, 3, 5, 9, 2, 3, 1, 5, 8, 3, 4, 3, 2, 4, 3, 3, 4, 3, 1, 1, 2, 4,\n",
              "       5, 6, 8, 2, 1, 3, 7, 5, 9, 2, 4, 3, 5, 9, 4, 9, 5, 1, 5, 5, 9, 1,\n",
              "       3, 6, 3, 1, 2, 4, 2, 5, 2, 8, 0, 6, 5, 0, 3, 0, 3, 1, 7, 2, 2, 4,\n",
              "       6, 5, 4, 5, 8, 2, 1, 1, 0, 3, 7, 4, 3, 4, 7, 7, 7, 3, 7, 7, 5, 6,\n",
              "       8, 9, 4, 5, 8, 6, 3, 2, 9, 9, 4, 3, 3, 2, 5, 2, 3, 4, 5, 4, 4, 9,\n",
              "       3, 7, 0, 2, 1, 4, 3, 3, 3, 4, 8, 2, 5, 2, 3, 2, 3, 8, 5, 6, 0, 6,\n",
              "       4, 2, 3, 5, 4, 1, 9, 0, 1, 8, 3, 0, 3, 9, 4, 5, 4, 1, 5, 4, 6, 3,\n",
              "       0, 3, 1, 1, 3, 3, 4, 4, 0, 0, 4, 5, 0, 7, 8, 4, 5, 4, 9, 4, 8, 2,\n",
              "       7, 4, 8, 8, 3, 3, 7, 5, 9, 4, 4, 7, 5, 4, 0, 7, 7, 2, 0, 3, 6, 2,\n",
              "       5, 3, 5, 5, 2, 1, 4, 5, 9, 7, 5, 3, 5, 2, 0, 3, 6, 6, 8, 2, 9, 5,\n",
              "       3, 7, 8, 3, 2, 4, 6, 4, 2, 3, 2, 2, 7, 0, 2, 3, 5, 7, 4, 2, 5, 5,\n",
              "       0, 2, 2, 6, 2, 3, 4, 5, 5, 5, 2, 6, 2, 1, 3, 0, 5, 0, 2, 5, 6, 0])"
            ]
          },
          "metadata": {
            "tags": []
          },
          "execution_count": 129
        }
      ]
    },
    {
      "cell_type": "code",
      "metadata": {
        "id": "20XMrshXqbmV"
      },
      "source": [
        ""
      ],
      "execution_count": null,
      "outputs": []
    },
    {
      "cell_type": "code",
      "metadata": {
        "id": "3mfpr6J_IPB8"
      },
      "source": [
        "from tensorflow.keras.models import load_model\r\n",
        "from tensorflow.keras.preprocessing import image"
      ],
      "execution_count": null,
      "outputs": []
    },
    {
      "cell_type": "code",
      "metadata": {
        "id": "ElpArrunIO_E"
      },
      "source": [
        "model=load_model('model_Classifierf.h5')"
      ],
      "execution_count": null,
      "outputs": []
    },
    {
      "cell_type": "code",
      "metadata": {
        "id": "9Es6tdOpIO8o"
      },
      "source": [
        "img=image.load_img('/content/drive/MyDrive/BDA/50(10).jpg',target_size=(224,224),color_mode='grayscale')"
      ],
      "execution_count": null,
      "outputs": []
    },
    {
      "cell_type": "code",
      "metadata": {
        "colab": {
          "base_uri": "https://localhost:8080/",
          "height": 241
        },
        "id": "n_bozCy0IO6G",
        "outputId": "5b7916c2-ee10-4cf6-e83e-f76cb22bd172"
      },
      "source": [
        "img"
      ],
      "execution_count": null,
      "outputs": [
        {
          "output_type": "execute_result",
          "data": {
            "image/png": "[encoded data removed]",
            "text/plain": [
              "<PIL.Image.Image image mode=L size=224x224 at 0x7F49A6019BA8>"
            ]
          },
          "metadata": {
            "tags": []
          },
          "execution_count": 93
        }
      ]
    },
    {
      "cell_type": "code",
      "metadata": {
        "id": "1spHtDEQIO3u"
      },
      "source": [
        "test_image=image.img_to_array(img)\r\n",
        "test_image=np.expand_dims(test_image, axis = 0)"
      ],
      "execution_count": null,
      "outputs": []
    },
    {
      "cell_type": "code",
      "metadata": {
        "colab": {
          "base_uri": "https://localhost:8080/"
        },
        "id": "zye1aRsGIO1F",
        "outputId": "95e70b02-aa3a-44d5-f9e8-553d5d039f3a"
      },
      "source": [
        "result = Classifier.predict(test_image)\r\n",
        "result"
      ],
      "execution_count": null,
      "outputs": [
        {
          "output_type": "execute_result",
          "data": {
            "text/plain": [
              "array([[0., 0., 0., 0., 0., 0., 0., 0., 1., 0.]], dtype=float32)"
            ]
          },
          "metadata": {
            "tags": []
          },
          "execution_count": 95
        }
      ]
    },
    {
      "cell_type": "code",
      "metadata": {
        "id": "Xt6cZ5ppIOyy"
      },
      "source": [
        "a=np.argmax(model.predict(test_image), axis=1)"
      ],
      "execution_count": null,
      "outputs": []
    },
    {
      "cell_type": "code",
      "metadata": {
        "colab": {
          "base_uri": "https://localhost:8080/"
        },
        "id": "DXxmVIEhvWBN",
        "outputId": "2974687b-a244-4a8a-a9dc-c9e9d1b22fa2"
      },
      "source": [
        "for i in a:\r\n",
        "  print(i)"
      ],
      "execution_count": null,
      "outputs": [
        {
          "output_type": "stream",
          "text": [
            "8\n"
          ],
          "name": "stdout"
        }
      ]
    },
    {
      "cell_type": "code",
      "metadata": {
        "id": "766YslBZBoP-",
        "colab": {
          "base_uri": "https://localhost:8080/"
        },
        "outputId": "533c8f4b-29a8-4e17-a3f8-3355d36468f3"
      },
      "source": [
        "model.evaluate(test_set)"
      ],
      "execution_count": null,
      "outputs": [
        {
          "output_type": "stream",
          "text": [
            "16/16 [==============================] - 15s 870ms/step - loss: 0.0720 - accuracy: 0.9743\n"
          ],
          "name": "stdout"
        },
        {
          "output_type": "execute_result",
          "data": {
            "text/plain": [
              "[0.0719996988773346, 0.9743083119392395]"
            ]
          },
          "metadata": {
            "tags": []
          },
          "execution_count": 104
        }
      ]
    },
    {
      "cell_type": "code",
      "metadata": {
        "colab": {
          "base_uri": "https://localhost:8080/"
        },
        "id": "U5tHWPqpyO4x",
        "outputId": "a7d350c3-1719-4b0e-a9ad-7ed871e6709e"
      },
      "source": [
        "model.evaluate(training_set)"
      ],
      "execution_count": null,
      "outputs": [
        {
          "output_type": "stream",
          "text": [
            "/usr/local/lib/python3.6/dist-packages/keras_preprocessing/image/image_data_generator.py:720: UserWarning: This ImageDataGenerator specifies `featurewise_center`, but it hasn't been fit on any training data. Fit it first by calling `.fit(numpy_data)`.\n",
            "  warnings.warn('This ImageDataGenerator specifies '\n"
          ],
          "name": "stderr"
        },
        {
          "output_type": "stream",
          "text": [
            "10/48 [=====>........................] - ETA: 36s - loss: 0.1045 - accuracy: 0.9563"
          ],
          "name": "stdout"
        },
        {
          "output_type": "stream",
          "text": [
            "/usr/local/lib/python3.6/dist-packages/PIL/TiffImagePlugin.py:788: UserWarning: Corrupt EXIF data.  Expecting to read 4 bytes but only got 0. \n",
            "  warnings.warn(str(msg))\n"
          ],
          "name": "stderr"
        },
        {
          "output_type": "stream",
          "text": [
            "48/48 [==============================] - 48s 990ms/step - loss: 0.1140 - accuracy: 0.9537\n"
          ],
          "name": "stdout"
        },
        {
          "output_type": "execute_result",
          "data": {
            "text/plain": [
              "[0.11397947371006012, 0.953734278678894]"
            ]
          },
          "metadata": {
            "tags": []
          },
          "execution_count": 105
        }
      ]
    },
    {
      "cell_type": "code",
      "metadata": {
        "id": "x0Sc-zmt1b9J"
      },
      "source": [
        ""
      ],
      "execution_count": null,
      "outputs": []
    }
  ]
}